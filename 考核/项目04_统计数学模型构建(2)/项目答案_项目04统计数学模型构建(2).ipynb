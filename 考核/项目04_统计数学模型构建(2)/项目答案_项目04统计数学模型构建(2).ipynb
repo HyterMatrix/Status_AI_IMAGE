{
 "cells": [
  {
   "cell_type": "code",
   "execution_count": null,
   "metadata": {
    "collapsed": true
   },
   "outputs": [],
   "source": [
    "'''\n",
    "【项目04】  统计数学模型构建(2)\n",
    "\n",
    "作业要求1：\n",
    "    构建函数f()，对已知函数在给定区间[a,b]上，判断其单调性和凸凹性，已知函数如下：\n",
    "    f(x)=x^3+100sin⁡x+10\n",
    "    （1）求该函数在[-10,-5]、[-2.5,2.5]、[5,10]区间上的单调性\n",
    "    （2）求该函数在[-6,-3]、[-3,3]、[3,6]区间上的凸凹性\n",
    "提示：\n",
    "    ① 可以先查看函数曲线，有个大致判断\n",
    "    ② 函数参数建议，见“项目03_要求.docx”文件\n",
    "    ③ 基于函数的一阶导数、二阶导数基本定义，可以在拆分指定区间情况下，以前后值来计算一阶二阶导数\n",
    "        比如将指定区间[-10,-5]拆分成1000个值，则第i个值的一阶导数为 → (f(xi[i+1])-f(xi[i]))/x_\n",
    "    ④ 函数中算出一阶导数、二阶导数的数组dsi_1,dsi_2，判断其正负值并记录数量，以此判断单调性及凸凹性\n",
    "\n",
    "作业要求2：\n",
    "    构建二分法函数f_solve()，对上述函数进行求解，分别求出当f(x)=500, f(x)=100时候的x近似值\n",
    "提示：\n",
    "    ① 可以先通过图表来查看根的个数，并得到根对应的近似值求解区：\n",
    "        f(x) = 500, 有且只有1个根，求解区间可以为[5,10]\n",
    "        f(x) = 100，有3个根, 求解区间可以为[0,2]，[2,5]，[5,8]\n",
    "    ② 函数参数建议，见“项目03_要求.docx”文件\n",
    "\n",
    "'''"
   ]
  },
  {
   "cell_type": "code",
   "execution_count": 2,
   "metadata": {
    "collapsed": true
   },
   "outputs": [],
   "source": [
    "import numpy as np\n",
    "import pandas as pd\n",
    "import matplotlib.pyplot as plt\n",
    "% matplotlib inline\n",
    "# 导入模块\n",
    "\n",
    "import warnings\n",
    "warnings.filterwarnings('ignore') \n",
    "# 不发出警告"
   ]
  },
  {
   "cell_type": "markdown",
   "metadata": {},
   "source": [
    "问题1：从0-9十个数字中任意选择出3个不同的数字，求3个数字中最大数为5的概率"
   ]
  },
  {
   "cell_type": "code",
   "execution_count": 113,
   "metadata": {},
   "outputs": [
    {
     "data": {
      "text/plain": [
       "0.0813"
      ]
     },
     "execution_count": 113,
     "metadata": {},
     "output_type": "execute_result"
    }
   ],
   "source": [
    "num = np.arange(10)\n",
    "ar = np.array([np.max(np.random.choice(num,size = 3,replace = False)) for i in range(50000)])\n",
    "len(ar[ar==5])/len(ar)"
   ]
  },
  {
   "cell_type": "markdown",
   "metadata": {},
   "source": [
    "问题2：从(0,1)中任取两数，求两数之和小于0.8的概率"
   ]
  },
  {
   "cell_type": "code",
   "execution_count": 118,
   "metadata": {},
   "outputs": [
    {
     "data": {
      "text/plain": [
       "0.3186"
      ]
     },
     "execution_count": 118,
     "metadata": {},
     "output_type": "execute_result"
    }
   ],
   "source": [
    "n = np.linspace(0,1,num=1000)\n",
    "ar = np.array([np.sum(np.random.choice(n,size = 2,replace = False)) for i in range(50000)])\n",
    "len(ar[ar<0.8])/len(ar)"
   ]
  },
  {
   "cell_type": "markdown",
   "metadata": {},
   "source": [
    "问题3：平均需要掷几次色子才会掷出6？"
   ]
  },
  {
   "cell_type": "code",
   "execution_count": 163,
   "metadata": {},
   "outputs": [
    {
     "data": {
      "text/plain": [
       "6.0197000000000003"
      ]
     },
     "execution_count": 163,
     "metadata": {},
     "output_type": "execute_result"
    }
   ],
   "source": [
    "def f():\n",
    "    n = 1\n",
    "    x = np.random.choice([1,2,3,4,5,6])\n",
    "    while x != 6:\n",
    "        x = np.random.choice([1,2,3,4,5,6])\n",
    "        n +=1\n",
    "    else:\n",
    "        return n\n",
    "\n",
    "ar = np.array([f() for i in range(10000)])\n",
    "ar.mean()"
   ]
  },
  {
   "cell_type": "markdown",
   "metadata": {},
   "source": [
    "问题4：分别随机在[-1,1]区间内取得两点x,y并定位一个点p(x,y)，请问p点在以原点(0,0)为圆心，半径为1的圆内的概率为多少？"
   ]
  },
  {
   "cell_type": "code",
   "execution_count": 276,
   "metadata": {},
   "outputs": [
    {
     "data": {
      "text/plain": [
       "0.7941"
      ]
     },
     "execution_count": 276,
     "metadata": {},
     "output_type": "execute_result"
    }
   ],
   "source": [
    "def f():\n",
    "    xi = np.random.rand()\n",
    "    yi = np.random.rand()\n",
    "    return (xi**2+yi**2)**0.5\n",
    "\n",
    "ar = np.array([f() for i in range(10000)])\n",
    "len(ar[ar<=1])/len(ar)"
   ]
  }
 ],
 "metadata": {
  "anaconda-cloud": {},
  "kernelspec": {
   "display_name": "Python 3",
   "language": "python",
   "name": "python3"
  },
  "language_info": {
   "codemirror_mode": {
    "name": "ipython",
    "version": 3
   },
   "file_extension": ".py",
   "mimetype": "text/x-python",
   "name": "python",
   "nbconvert_exporter": "python",
   "pygments_lexer": "ipython3",
   "version": "3.6.7"
  }
 },
 "nbformat": 4,
 "nbformat_minor": 1
}
