{
 "cells": [
  {
   "cell_type": "code",
   "execution_count": null,
   "metadata": {
    "collapsed": true
   },
   "outputs": [],
   "source": [
    "'''\n",
    "【项目03】  统计数学模型构建(1)\n",
    "\n",
    "作业要求1：\n",
    "    构建函数f()，对已知函数在给定区间[a,b]上，判断其单调性和凸凹性，已知函数如下：\n",
    "    f(x)=x^3+100sin⁡x+10\n",
    "    （1）求该函数在[-7.5,-5]、[-2.5,2.5]、[5,10]区间上的单调性\n",
    "    （2）求该函数在[-6,-3]、[-3,3]、[3,6]区间上的凸凹性\n",
    "提示：\n",
    "    ① 可以先查看函数曲线，有个大致判断\n",
    "    ② 函数参数建议，见“项目03_要求.docx”文件\n",
    "    ③ 基于函数的一阶导数、二阶导数基本定义，可以在拆分指定区间情况下，以前后值来计算一阶二阶导数\n",
    "        比如将指定区间[-10,-5]拆分成1000个值，则第i个值的一阶导数为 → (f(xi[i+1])-f(xi[i]))/x_\n",
    "    ④ 函数中算出一阶导数、二阶导数的数组dsi_1,dsi_2，判断其正负值并记录数量，以此判断单调性及凸凹性\n",
    "\n",
    "作业要求2：\n",
    "    构建二分法函数f_solve()，对上述函数进行求解，分别求出当f(x)=500, f(x)=100时候的x近似值\n",
    "提示：\n",
    "    ① 可以先通过图表来查看根的个数，并得到根对应的近似值求解区：\n",
    "        f(x) = 500, 有且只有1个根，求解区间可以为[5,10]\n",
    "        f(x) = 100，有3个根, 求解区间可以为[0,2]，[2,5]，[5,8]\n",
    "    ② 函数参数建议，见“项目03_要求.docx”文件\n",
    "\n",
    "'''"
   ]
  },
  {
   "cell_type": "code",
   "execution_count": 1,
   "metadata": {
    "collapsed": true
   },
   "outputs": [],
   "source": [
    "import numpy as np\n",
    "import pandas as pd\n",
    "import matplotlib.pyplot as plt\n",
    "% matplotlib inline\n",
    "# 导入模块\n",
    "\n",
    "import warnings\n",
    "warnings.filterwarnings('ignore') \n",
    "# 不发出警告"
   ]
  },
  {
   "cell_type": "markdown",
   "metadata": {},
   "source": [
    "作业1"
   ]
  },
  {
   "cell_type": "code",
   "execution_count": 2,
   "metadata": {},
   "outputs": [
    {
     "data": {
      "text/plain": [
       "<matplotlib.lines.Line2D at 0x1c84905d6a0>"
      ]
     },
     "execution_count": 2,
     "metadata": {},
     "output_type": "execute_result"
    },
    {
     "data": {
      "image/png": "[encoded data removed]",
      "text/plain": [
       "<matplotlib.figure.Figure at 0x1c848ef6cc0>"
      ]
     },
     "metadata": {},
     "output_type": "display_data"
    }
   ],
   "source": [
    "# 查看函数曲线\n",
    "\n",
    "def f(x):\n",
    "    return x**3 + np.sin(x)*100 + 10 # 函数\n",
    "\n",
    "plt.figure(figsize = (12,6))\n",
    "n = np.linspace(-10,10,num = 100)\n",
    "plt.plot(n,f(n))\n",
    "\n",
    "plt.axvline(0,color = 'gray',linestyle = '--',alpha=0.8)  \n",
    "plt.axhline(0,color = 'gray',linestyle = '--',alpha=0.8)  \n",
    "# 辅助线"
   ]
  },
  {
   "cell_type": "code",
   "execution_count": 3,
   "metadata": {
    "scrolled": false
   },
   "outputs": [
    {
     "name": "stdout",
     "output_type": "stream",
     "text": [
      "该函数在[-7.5,-5.0]区间上单调递增\n",
      "该函数在[-2.5,2.5]区间上不存在单调性\n",
      "该函数在[5.0,10.0]区间上单调递增\n"
     ]
    }
   ],
   "source": [
    "# 构建函数dd()，判断单调性\n",
    "# 求该函数在[-7.5,-5]、[-2.5,2.5]、[5,10]区间上的单调性\n",
    "\n",
    "def dd(n,*q):\n",
    "    '''\n",
    "    构建函数dd()，判断单调性\n",
    "    n：函数在指定区间内的切分精度，n越大，[a,b]区间中拆分的值越多\n",
    "    *q：可变参数，这里输入2个元素作为区间\n",
    "    '''\n",
    "    xi = np.linspace(q[0],q[1],num = n)  \n",
    "    yi = f(xi)\n",
    "    x_ = (q[1]-q[0])/len(xi) \n",
    "    # 拆分数据，得到xi数组及对应的f(x)值yi数组，x_为xi间隔长度\n",
    "    dsi_1 = np.array([(f(xi[i+1])-f(xi[i]))/x_ for i in range(len(xi))[:-1]])\n",
    "    dsi_2 = np.array([(dsi_1[i+1]-dsi_1[i])/x_ for i in range(len(dsi_1))[:-1]])\n",
    "    # 算出一阶导数、二阶导数的数组dsi_1,dsi_2\n",
    "    n1 = len(dsi_1[dsi_1>=0])\n",
    "    n2 = len(dsi_1[dsi_1<=0])\n",
    "    # 判断一阶导数的正负值，并记录数量\n",
    "    if n1 == 0 and n2 >=0 :\n",
    "        return '该函数在[%.1f,%.1f]区间上单调递减' % (q[0],q[1])\n",
    "    elif n2 == 0 and n1 >=0 :\n",
    "        return '该函数在[%.1f,%.1f]区间上单调递增' % (q[0],q[1])\n",
    "    else:\n",
    "        return '该函数在[%.1f,%.1f]区间上不存在单调性' % (q[0],q[1])\n",
    "    \n",
    "print(dd(1000,-7.5,-5))\n",
    "print(dd(1000,-2.5,2.5))\n",
    "print(dd(1000,5,10))"
   ]
  },
  {
   "cell_type": "code",
   "execution_count": 4,
   "metadata": {},
   "outputs": [
    {
     "name": "stdout",
     "output_type": "stream",
     "text": [
      "该函数在[-6.0,-3.0]区间上为凸函数\n",
      "该函数在[-3.0,3.0]区间上不存在凹凸性\n",
      "该函数在[3.0,6.0]区间上为凹函数\n"
     ]
    }
   ],
   "source": [
    "# 构建函数ta()，判断凸凹性\n",
    "# 求该函数在[-6,-3]、[-3,3]、[3,6]区间上的凸凹性\n",
    "\n",
    "def ta(n,*q):\n",
    "    '''\n",
    "    构建函数ta()，判断凸凹性\n",
    "    n：函数在指定区间内的切分精度，n越大，[a,b]区间中拆分的值越多\n",
    "    *q：可变参数，这里输入2个元素作为区间\n",
    "    '''\n",
    "    xi = np.linspace(q[0],q[1],num = n)  \n",
    "    yi = f(xi)\n",
    "    x_ = (q[1]-q[0])/len(xi) \n",
    "    # 拆分数据，得到xi数组及对应的f(x)值yi数组，x_为xi间隔长度\n",
    "    dsi_1 = np.array([(f(xi[i+1])-f(xi[i]))/x_ for i in range(len(xi))[:-1]])\n",
    "    dsi_2 = np.array([(dsi_1[i+1]-dsi_1[i])/x_ for i in range(len(dsi_1))[:-1]])\n",
    "    # 算出一阶导数、二阶导数的数组dsi_1,dsi_2\n",
    "    n1 = len(dsi_2[dsi_2>=0])\n",
    "    n2 = len(dsi_2[dsi_2<=0])\n",
    "    # 判断二阶导数的正负值，并记录数量\n",
    "    if n1 == 0 and n2 >=0 :\n",
    "        return '该函数在[%.1f,%.1f]区间上为凸函数' % (q[0],q[1])\n",
    "    elif n2 == 0 and n1 >=0 :\n",
    "        return '该函数在[%.1f,%.1f]区间上为凹函数' % (q[0],q[1])\n",
    "    else:\n",
    "        return '该函数在[%.1f,%.1f]区间上不存在凹凸性' % (q[0],q[1])\n",
    "\n",
    "print(ta(1000,-6,-3))\n",
    "print(ta(1000,-3,3))\n",
    "print(ta(1000,3,6))"
   ]
  },
  {
   "cell_type": "markdown",
   "metadata": {},
   "source": [
    "作业2"
   ]
  },
  {
   "cell_type": "code",
   "execution_count": 5,
   "metadata": {},
   "outputs": [
    {
     "data": {
      "text/plain": [
       "<matplotlib.lines.Line2D at 0x18bacc22470>"
      ]
     },
     "execution_count": 5,
     "metadata": {},
     "output_type": "execute_result"
    },
    {
     "data": {
      "image/png": "[encoded data removed]",
      "text/plain": [
       "<matplotlib.figure.Figure at 0x18bacb76470>"
      ]
     },
     "metadata": {},
     "output_type": "display_data"
    }
   ],
   "source": [
    "# 查看f(x) = 500时候的x区间范围\n",
    "\n",
    "plt.figure(figsize = (12,6))\n",
    "plt.plot(n,f(n))\n",
    "plt.axvline(0,color = 'gray',linestyle = '--',alpha=0.8)  \n",
    "plt.axhline(0,color = 'gray',linestyle = '--',alpha=0.8)  \n",
    "# 辅助线\n",
    "\n",
    "plt.axhline(500,color = 'red',linestyle = '--',alpha=0.8)  \n",
    "# f(x) = 500, 有且只有1个根\n",
    "\n",
    "plt.axhline(100,color = 'green',linestyle = '--',alpha=0.8)\n",
    "# f(x) = 100，有3个根"
   ]
  },
  {
   "cell_type": "code",
   "execution_count": 6,
   "metadata": {},
   "outputs": [
    {
     "name": "stdout",
     "output_type": "stream",
     "text": [
      "finished!\n"
     ]
    }
   ],
   "source": [
    "# 构建二分法函数f_solve()\n",
    "\n",
    "def f_solve(yi,n,*q):\n",
    "    '''\n",
    "    构建函数f_solve()，二分法求近似值\n",
    "    注意，如果求f(x)=yi时x的值，相当于求g(x)=f(x)-yi=0的实根\n",
    "    yi：函数值\n",
    "    n：迭代次数\n",
    "    *q：可变参数，这里输入2个元素作为区间\n",
    "    '''\n",
    "    lst = list(q)\n",
    "    ni = 0\n",
    "    while ni < n:\n",
    "        z = (lst[0]+lst[1])/2\n",
    "        if (f(z)-yi)*(f(lst[0])-yi) > 0:   # 即与f(q[0])同号\n",
    "            lst[0] = z\n",
    "        else:\n",
    "            lst[1] = z    \n",
    "        #print('第%i次迭代的隔离区间为' % (ni+1),lst)\n",
    "        ni += 1\n",
    "    return (lst[0]+lst[1])/2\n",
    "\n",
    "print('finished!')"
   ]
  },
  {
   "cell_type": "code",
   "execution_count": 7,
   "metadata": {},
   "outputs": [
    {
     "name": "stdout",
     "output_type": "stream",
     "text": [
      "当f(x)=500时，x的近似值为：7.376\n",
      "当f(x)=100时，x的近似值分别为：1.091, 2.233, 5.464\n"
     ]
    }
   ],
   "source": [
    "# 求解：当f(x)=500, f(x)=100时候的x近似值\n",
    "\n",
    "print('当f(x)=500时，x的近似值为：%.3f' % f_solve(500,100,5,10))\n",
    "print('当f(x)=100时，x的近似值分别为：%.3f, %.3f, %.3f' % (f_solve(100,100,0,2),f_solve(100,100,2,5),f_solve(100,100,5,8)))"
   ]
  }
 ],
 "metadata": {
  "anaconda-cloud": {},
  "kernelspec": {
   "display_name": "Python 3",
   "language": "python",
   "name": "python3"
  },
  "language_info": {
   "codemirror_mode": {
    "name": "ipython",
    "version": 3
   },
   "file_extension": ".py",
   "mimetype": "text/x-python",
   "name": "python",
   "nbconvert_exporter": "python",
   "pygments_lexer": "ipython3",
   "version": "3.6.7"
  }
 },
 "nbformat": 4,
 "nbformat_minor": 1
}
